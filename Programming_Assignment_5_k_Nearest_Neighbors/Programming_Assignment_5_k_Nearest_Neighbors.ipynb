{
  "nbformat": 4,
  "nbformat_minor": 0,
  "metadata": {
    "kernelspec": {
      "display_name": "Python 3",
      "language": "python",
      "name": "python3"
    },
    "language_info": {
      "codemirror_mode": {
        "name": "ipython",
        "version": 3
      },
      "file_extension": ".py",
      "mimetype": "text/x-python",
      "name": "python",
      "nbconvert_exporter": "python",
      "pygments_lexer": "ipython3",
      "version": "3.7.4"
    },
    "colab": {
      "name": "Programming Assignment 5 k Nearest Neighbors.ipynb",
      "provenance": [],
      "include_colab_link": true
    }
  },
  "cells": [
    {
      "cell_type": "markdown",
      "metadata": {
        "id": "view-in-github",
        "colab_type": "text"
      },
      "source": [
        "<a href=\"https://colab.research.google.com/github/potasali/Machine-Learning/blob/master/Programming_Assignment_5_k_Nearest_Neighbors/Programming_Assignment_5_k_Nearest_Neighbors.ipynb\" target=\"_parent\"><img src=\"https://colab.research.google.com/assets/colab-badge.svg\" alt=\"Open In Colab\"/></a>"
      ]
    },
    {
      "cell_type": "markdown",
      "metadata": {
        "id": "VA1VUb0MZboK",
        "colab_type": "text"
      },
      "source": [
        "# Programming Assignment 5: k Nearest Neighbors\n"
      ]
    },
    {
      "cell_type": "markdown",
      "metadata": {
        "id": "A2vdKNQiZboL",
        "colab_type": "text"
      },
      "source": [
        "## Problem\n",
        "The purpose of this assignment is to get you familiar with k nearest neighbor classification.\n",
        "You are given with Iris Data Set that contains information of three different species of iris\n",
        "flower. Your task is to implement k nearest classifier and use it for predicting the flower\n",
        "species given measurements of iris flowers.\n",
        "\n"
      ]
    },
    {
      "cell_type": "markdown",
      "metadata": {
        "id": "UUH1JpMLZboL",
        "colab_type": "text"
      },
      "source": [
        "## 1. Dataset Loading\n",
        "The data set contains 150 instances with 5 attributes (4 input variables and 1 output class).\n",
        "Attribute Information:\n",
        "- Sepal length in cm\n",
        "- Sepal width in cm\n",
        "- Petal length in cm\n",
        "- Petal width in cm\n",
        "- Class\n",
        " - Iris Setosa\n",
        " - Iris Versicolour\n",
        " - Iris Virginica "
      ]
    },
    {
      "cell_type": "markdown",
      "metadata": {
        "id": "5qCCDQSAZboM",
        "colab_type": "text"
      },
      "source": [
        "The data set has been divided into two sets.\n",
        "- train.csv: 135 instances (45 per class)\n",
        "- test.csv: 15 instances (5 per class)"
      ]
    },
    {
      "cell_type": "code",
      "metadata": {
        "id": "UMFM5a_sZboN",
        "colab_type": "code",
        "colab": {}
      },
      "source": [
        "# Importing Libraries\n",
        "import os\n",
        "import glob\n",
        "import re\n",
        "import numpy as np\n",
        "from matplotlib import pyplot\n",
        "import math \n",
        "import pandas as pd\n",
        "import string\n",
        "import heapq\n",
        "from statistics import mode\n",
        "from nltk.corpus import stopwords"
      ],
      "execution_count": 0,
      "outputs": []
    },
    {
      "cell_type": "code",
      "metadata": {
        "id": "wU-E1tBSZboR",
        "colab_type": "code",
        "colab": {}
      },
      "source": [
        "# Loading the train and test datasets\n",
        "column_names = [\"Sepal Length\", \"Sepal Width\", \"Petal Length\", \"Petal Width\", \"Class\"]\n",
        "train = pd.read_csv (r'train.csv', names = column_names)\n",
        "test = pd.read_csv (r'test.csv', names = column_names)"
      ],
      "execution_count": 0,
      "outputs": []
    },
    {
      "cell_type": "code",
      "metadata": {
        "scrolled": true,
        "id": "DjbSmcjPZboT",
        "colab_type": "code",
        "colab": {}
      },
      "source": [
        "# Changing datatypes of the dataframe to float\n",
        "train[\"Sepal Length\"] = train[\"Sepal Length\"].astype('float64')\n",
        "train[\"Sepal Width\"] = train[\"Sepal Width\"].astype('float64')\n",
        "train[\"Petal Length\"] = train[\"Petal Length\"].astype('float64')\n",
        "train[\"Petal Width\"] = train[\"Petal Width\"].astype('float64')\n",
        "test[\"Sepal Length\"] = test[\"Sepal Length\"].astype('float64')\n",
        "test[\"Sepal Width\"] = test[\"Sepal Width\"].astype('float64')\n",
        "test[\"Petal Length\"] = test[\"Petal Length\"].astype('float64')\n",
        "test[\"Petal Width\"] = test[\"Petal Width\"].astype('float64')"
      ],
      "execution_count": 0,
      "outputs": []
    },
    {
      "cell_type": "code",
      "metadata": {
        "id": "k_SxzWH5ZboV",
        "colab_type": "code",
        "colab": {}
      },
      "source": [
        "def labelEncoding(data, arr):\n",
        "    for label in data:\n",
        "\n",
        "        # Labeling Iris-setosa as 0\n",
        "        if label == 'Iris-setosa':\n",
        "            arr.append(0)\n",
        "\n",
        "        # Labeling Iris-versicolor as 1\n",
        "        elif label == 'Iris-versicolor':\n",
        "            arr.append(1)\n",
        "\n",
        "        # Labeling Iris-virginica as 2\n",
        "        elif label == 'Iris-virginica':\n",
        "            arr.append(2)\n",
        "            \n",
        "    arr = np.asarray(arr)\n",
        "    \n",
        "test_y = []\n",
        "labelEncoding(test[\"Class\"], test_y)"
      ],
      "execution_count": 0,
      "outputs": []
    },
    {
      "cell_type": "markdown",
      "metadata": {
        "id": "AGfDyhsJZboY",
        "colab_type": "text"
      },
      "source": [
        "## 2. KNN Implementation"
      ]
    },
    {
      "cell_type": "code",
      "metadata": {
        "id": "WW1ttrjwZboY",
        "colab_type": "code",
        "colab": {}
      },
      "source": [
        "# Finding the euclidian distance between two vectors P and Q\n",
        "def euclidianDistance(P, Q, n):\n",
        "\n",
        "    # Initializing the distance\n",
        "    distance = 0\n",
        "\n",
        "    # Iterating through elements in both vectors and finding Euclidian distance\n",
        "    for i in range(n):\n",
        "        distance += np.square(P[i] - Q[i])\n",
        "    distance = np.sqrt(distance)\n",
        "\n",
        "    return distance\n",
        "\n",
        "def findingDistances(train, test):\n",
        "    distances = []\n",
        "\n",
        "    # Iterating through each test sample\n",
        "    for i in range(len(test)):\n",
        "        test_i = test.iloc[i]\n",
        "\n",
        "        # Initializing a distance array\n",
        "        test_i_distances = []\n",
        "\n",
        "        # Iterating through each train sample\n",
        "        for j in range(len(train)):\n",
        "            train_i = train.iloc[j]\n",
        "\n",
        "            # Finding the euclidian distance between the current test sample with each train sample\n",
        "            # Appending the euclidian distance along with the train label as a tuple in the distance array for each test pint\n",
        "            test_i_distances.append((euclidianDistance(test_i, train_i, 4), train_i[4]))\n",
        "\n",
        "        # Appending the array of tuples in the distance array \n",
        "        distances.append(test_i_distances)\n",
        "\n",
        "    # Returns a 2D array of tuples containing distance between each test and train point along with the train label\n",
        "    return distances\n",
        "\n",
        "# Sort the distance array     \n",
        "def sortDistances(distances):\n",
        "    sortedArray = []\n",
        "\n",
        "    # Iterate through each test point distances to the train point\n",
        "    for i in range(len(distances)):\n",
        "\n",
        "        # Sort the tuple array according to the distance\n",
        "        sortedArray.append(sorted(distances[i], key = lambda x: x[0]))\n",
        "\n",
        "    #  Returns a sorted 2D array of tuples containing distance between each test and train point along with the train label\n",
        "    return sortedArray\n",
        "    \n",
        "# prediction function for the KNN algorithm\n",
        "def KNN(distances, k):\n",
        "    \n",
        "    # Initializes the label array\n",
        "    labels = []\n",
        "\n",
        "    # Iterate through each test point distances to the train point\n",
        "    for i in range(len(distances)):\n",
        "\n",
        "        # Initialize the k nearest neighbor array\n",
        "        nearest_k = []\n",
        "\n",
        "        # Taking out the k first values from the distance array and store ther labels\n",
        "        for j in range(k):\n",
        "            this_label = distances[i][j][1]\n",
        "            nearest_k.append(this_label)\n",
        "\n",
        "        # Find the mode value of the k neighbors\n",
        "        mode_label = mode(nearest_k)\n",
        "        labels.append(mode_label)\n",
        "    \n",
        "    # Returns predicted labels\n",
        "    return labels\n",
        "\n",
        "def Algo(train, test, k):\n",
        "\n",
        "    # Find eucladian distances of the test samples from each train sample\n",
        "    distances = findingDistances(train, test)\n",
        "\n",
        "    # Sorting the distance array\n",
        "    distances = sortDistances(distances)\n",
        "\n",
        "    # Finding the predicted value for the given value of k\n",
        "    labels = KNN(distances, k)\n",
        "    labels\n",
        "    predicts = []\n",
        "\n",
        "    # Label encode the predicted values\n",
        "    labelEncoding(labels, predicts)\n",
        "\n",
        "    # Return label encoded predicted values\n",
        "    return predicts"
      ],
      "execution_count": 0,
      "outputs": []
    },
    {
      "cell_type": "code",
      "metadata": {
        "id": "B6ET9kRGZbob",
        "colab_type": "code",
        "colab": {}
      },
      "source": [
        "k = []\n",
        "k.append(0)\n",
        "\n",
        "# Finding k for values 1 to 5\n",
        "for i in range(1, 6):\n",
        "    k.append(Algo(train, test, i))"
      ],
      "execution_count": 0,
      "outputs": []
    },
    {
      "cell_type": "markdown",
      "metadata": {
        "id": "NY4mIzwPZboe",
        "colab_type": "text"
      },
      "source": [
        "## 3. Evaluation"
      ]
    },
    {
      "cell_type": "code",
      "metadata": {
        "id": "Htxhdi17Zbof",
        "colab_type": "code",
        "colab": {},
        "outputId": "bc88eaea-3abc-48ef-f3b5-9a7c98fd7c2b"
      },
      "source": [
        "def eval(prediction, expected):\n",
        "    \n",
        "    # Initializing the confusion matrix along with all the outcomes\n",
        "    tp = [0,0,0]\n",
        "    tn = [0,0,0]\n",
        "    fp = [0,0,0]\n",
        "    fn = [0,0,0]\n",
        "    CM = np.full((3,3), 0)\n",
        "\n",
        "    # Updating the confusion matrix\n",
        "    for E, P in zip(expected, prediction): \n",
        "        CM[P][E] += 1\n",
        "        \n",
        "    # Updating values for the true-positives, true-negatives, false-positives, false-negatives\n",
        "    for i in range(3):\n",
        "        tp[i] = CM[i][i]\n",
        "        fp[i] = (CM[:, i]).sum() - tp[i]\n",
        "        fn[i] = (CM[i, :]).sum() - tp[i]\n",
        "        tn[i] = (CM.sum()) - tp[i] - fp[i] - fn[i]\n",
        "    \n",
        "    # Displaying the Confusion Matrix\n",
        "    CM = pd.DataFrame(data=CM)\n",
        "    CM.columns = ['Iris Setosa', 'Iris Versicolour', 'Iris Virginica']\n",
        "    CM.rename(index={0:'Iris Setosa',1:'Iris Versicolour',2:'Iris Virginica'}, inplace=True)\n",
        "    print(\"Confusion Matrix\\n\\n\", CM)\n",
        "    \n",
        "    # Finding the pooled confusion matrix\n",
        "    poolCM = np.array([[sum(tp), sum(fp)],[sum(fn), sum(tn)]])\n",
        "    print(\"\\nPooled: \\n\", poolCM)\n",
        "    \n",
        "    # Micro-Averaging Precision \n",
        "    print(\"\\nMicro-Average Precision: \", (poolCM[0][0]/(poolCM[0][1]+poolCM[0][0])))\n",
        "    \n",
        "    # Micro-Averaging Recall \n",
        "    print(\"Micro-Average Recall: \", (poolCM[0][0]/(poolCM[1][0]+poolCM[0][0])))\n",
        "\n",
        "    # Micro-Averaging Accuracy \n",
        "    print(\"Micro-Average Accuracy: \", ((poolCM[0][0]+sum(tn))/(poolCM[1][0]+poolCM[0][0]+poolCM[0][1]+poolCM[1][1])))\n",
        "\n",
        "    # Micro-Averaging F1 score \n",
        "    miP = (poolCM[0][0]/(poolCM[0][1]+poolCM[0][0]))\n",
        "    miR = (poolCM[0][0]/(poolCM[1][0]+poolCM[0][0]))\n",
        "    f1_score = (2 * miP * miR) / (miP + miR)\n",
        "    print(\"Micro-Average F1-Score: \", f1_score)\n",
        "    \n",
        "    # Finding Precison, Accuracy and Recall for each class\n",
        "    maP = []\n",
        "    maR = []\n",
        "    maA = []\n",
        "    for i in range(3):\n",
        "        maP.append(tp[i] / (tp[i] + fp[i]))\n",
        "        maR.append(tp[i] / (tp[i] + fn[i]))\n",
        "        maA.append((tp[i] + tn[i]) / (tp[i] + tn[i] + fp[i] + fn[i]))\n",
        "\n",
        "    # Macro-Average Precision\n",
        "    _maP = (sum(maP))/3\n",
        "    print(\"\\nMacro-Average Precision: \", _maP)\n",
        "\n",
        "    # Macro-Average Recall\n",
        "    _maR = (sum(maR))/3\n",
        "    print(\"Macro-Average Recall: \", _maR)\n",
        "\n",
        "    # Macro-Average Accuracy\n",
        "    _maA = (sum(maA))/3\n",
        "    print(\"Macro-Average Accuracy: \", _maA)\n",
        "\n",
        "    # Macro-Average F1 score\n",
        "    f1_score = (2 * _maP * _maR) / (_maP + _maR\n",
        "\n",
        "# Evaluation for k = 1\n",
        "print(\"k = 1\\n\")\n",
        "eval(k[1], test_y)  \n"
      ],
      "execution_count": 0,
      "outputs": [
        {
          "output_type": "stream",
          "text": [
            "k = 1\n",
            "\n",
            "Confusion Matrix\n",
            "\n",
            "                   Iris Setosa  Iris Versicolour  Iris Virginica\n",
            "Iris Setosa                 5                 0               0\n",
            "Iris Versicolour            0                 5               0\n",
            "Iris Virginica              0                 0               5\n",
            "\n",
            "Pooled: \n",
            " [[15  0]\n",
            " [ 0 30]]\n",
            "\n",
            "Micro-Average Precision:  1.0\n",
            "Micro-Average Recall:  1.0\n",
            "Micro-Average Accuracy:  1.0\n",
            "Micro-Average F1-Score:  1.0\n",
            "\n",
            "Macro-Average Precision:  1.0\n",
            "Macro-Average Recall:  1.0\n",
            "Macro-Average Accuracy:  1.0\n",
            "Macro-Average F1-Score:  1.0\n"
          ],
          "name": "stdout"
        }
      ]
    },
    {
      "cell_type": "code",
      "metadata": {
        "id": "SyIn_YH-Zboi",
        "colab_type": "code",
        "colab": {},
        "outputId": "52f8ff0a-02d3-49c0-bd9d-32ad53ca43c1"
      },
      "source": [
        "# Evaluation for k = 3\n",
        "print(\"k = 3\\n\")\n",
        "eval(k[3], test_y)  "
      ],
      "execution_count": 0,
      "outputs": [
        {
          "output_type": "stream",
          "text": [
            "k = 3\n",
            "\n",
            "Confusion Matrix\n",
            "\n",
            "                   Iris Setosa  Iris Versicolour  Iris Virginica\n",
            "Iris Setosa                 5                 0               0\n",
            "Iris Versicolour            0                 5               0\n",
            "Iris Virginica              0                 0               5\n",
            "\n",
            "Pooled: \n",
            " [[15  0]\n",
            " [ 0 30]]\n",
            "\n",
            "Micro-Average Precision:  1.0\n",
            "Micro-Average Recall:  1.0\n",
            "Micro-Average Accuracy:  1.0\n",
            "Micro-Average F1-Score:  1.0\n",
            "\n",
            "Macro-Average Precision:  1.0\n",
            "Macro-Average Recall:  1.0\n",
            "Macro-Average Accuracy:  1.0\n",
            "Macro-Average F1-Score:  1.0\n"
          ],
          "name": "stdout"
        }
      ]
    },
    {
      "cell_type": "code",
      "metadata": {
        "id": "KSQzAsq5Zbom",
        "colab_type": "code",
        "colab": {},
        "outputId": "c5e71420-76af-4ab4-aea3-001f9254609b"
      },
      "source": [
        "# Evaluation for k = 5\n",
        "print(\"k = 5\\n\")\n",
        "eval(k[5], test_y)  "
      ],
      "execution_count": 0,
      "outputs": [
        {
          "output_type": "stream",
          "text": [
            "k = 5\n",
            "\n",
            "Confusion Matrix\n",
            "\n",
            "                   Iris Setosa  Iris Versicolour  Iris Virginica\n",
            "Iris Setosa                 5                 0               0\n",
            "Iris Versicolour            0                 5               0\n",
            "Iris Virginica              0                 0               5\n",
            "\n",
            "Pooled: \n",
            " [[15  0]\n",
            " [ 0 30]]\n",
            "\n",
            "Micro-Average Precision:  1.0\n",
            "Micro-Average Recall:  1.0\n",
            "Micro-Average Accuracy:  1.0\n",
            "Micro-Average F1-Score:  1.0\n",
            "\n",
            "Macro-Average Precision:  1.0\n",
            "Macro-Average Recall:  1.0\n",
            "Macro-Average Accuracy:  1.0\n",
            "Macro-Average F1-Score:  1.0\n"
          ],
          "name": "stdout"
        }
      ]
    },
    {
      "cell_type": "code",
      "metadata": {
        "id": "Agkm9bBtZboo",
        "colab_type": "code",
        "colab": {}
      },
      "source": [
        ""
      ],
      "execution_count": 0,
      "outputs": []
    }
  ]
}